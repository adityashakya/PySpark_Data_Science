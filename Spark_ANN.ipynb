{
 "cells": [
  {
   "cell_type": "markdown",
   "metadata": {},
   "source": [
    "# PySpark implementation of ANN(MultilayerPerceptronClassifier)\n",
    "\n",
    "## Finding Spark Installation\n",
    "We need to tell the code where the Spark installation lie in the current system"
   ]
  },
  {
   "cell_type": "code",
   "execution_count": 1,
   "metadata": {},
   "outputs": [],
   "source": [
    "import findspark\n",
    "findspark.init()"
   ]
  },
  {
   "cell_type": "markdown",
   "metadata": {},
   "source": [
    "## Creating Spark Context\n",
    "Bare minimum requirement of any spark program"
   ]
  },
  {
   "cell_type": "code",
   "execution_count": 2,
   "metadata": {},
   "outputs": [],
   "source": [
    "from pyspark import SparkContext, SparkConf\n",
    "conf = SparkConf()\n",
    "sc = SparkContext(conf=conf)"
   ]
  },
  {
   "cell_type": "markdown",
   "metadata": {},
   "source": [
    "## Create Spark Session"
   ]
  },
  {
   "cell_type": "code",
   "execution_count": 3,
   "metadata": {},
   "outputs": [],
   "source": [
    "from pyspark.sql import SparkSession\n",
    "\n",
    "spark = SparkSession \\\n",
    "    .builder \\\n",
    "    .appName(\"Python Spark SQL basic example\") \\\n",
    "    .getOrCreate()"
   ]
  },
  {
   "cell_type": "markdown",
   "metadata": {},
   "source": [
    "## Creating Spark SQL Context\n",
    "This will enable us to have sql functionality in the code"
   ]
  },
  {
   "cell_type": "code",
   "execution_count": 4,
   "metadata": {},
   "outputs": [],
   "source": [
    "from pyspark.sql import SQLContext\n",
    "sqlContext = SQLContext(sc)"
   ]
  },
  {
   "cell_type": "markdown",
   "metadata": {},
   "source": [
    "### Read the csv file into a Spark Dataframe\n"
   ]
  },
  {
   "cell_type": "code",
   "execution_count": 5,
   "metadata": {},
   "outputs": [],
   "source": [
    "data = sqlContext.read.format(\"com.databricks.spark.csv\")\\\n",
    ".option(\"header\", \"true\")\\\n",
    ".option(\"inferschema\", \"true\")\\\n",
    ".option(\"mode\", \"DROPMALFORMED\")\\\n",
    ".load(\"data/Churn_Modelling.csv\")"
   ]
  },
  {
   "cell_type": "code",
   "execution_count": 6,
   "metadata": {},
   "outputs": [],
   "source": [
    "import pyspark.sql.functions as F\n",
    "\n",
    "# converting integer values in Exited column to string, so that we can train the stringIndexer\n",
    "data =data.withColumn(\"Exited\", F.col(\"Exited\").cast('boolean').cast('string'))# 1 -> true -> 'true'\n"
   ]
  },
  {
   "cell_type": "markdown",
   "metadata": {},
   "source": [
    "## Data Preprocessing\n",
    "\n",
    "\n",
    "### Splitting the data to training and test set"
   ]
  },
  {
   "cell_type": "code",
   "execution_count": 7,
   "metadata": {},
   "outputs": [],
   "source": [
    "(trainingData, testData) = data.randomSplit([0.8, 0.2])"
   ]
  },
  {
   "cell_type": "markdown",
   "metadata": {},
   "source": [
    "### Setting up data preprocessing stages for the model pipeline"
   ]
  },
  {
   "cell_type": "code",
   "execution_count": 72,
   "metadata": {},
   "outputs": [],
   "source": [
    "from pyspark.ml.feature import StringIndexer, IndexToString, VectorAssembler, OneHotEncoderEstimator, MinMaxScaler\n",
    "from pyspark.ml.classification import MultilayerPerceptronClassifier, RandomForestClassifier\n"
   ]
  },
  {
   "cell_type": "code",
   "execution_count": 115,
   "metadata": {},
   "outputs": [],
   "source": [
    "\n",
    "stages=[] # to hold all stages in sequence\n",
    "\n",
    "# stage for output label encoding\n",
    "stages.append(StringIndexer(inputCol='Exited',  outputCol='s_exited', handleInvalid='skip').fit(trainingData))\n",
    "\n",
    "# string index geography\n",
    "stages.append(StringIndexer(inputCol ='Geography', outputCol='s_geography', handleInvalid='keep'))\n",
    "\n",
    "# One hot encode geography\n",
    "stages.append(OneHotEncoderEstimator(inputCols=['s_geography'], outputCols=['oh_s_geography']))\n",
    "\n",
    "# String index gender\n",
    "stages.append(StringIndexer(inputCol = 'Gender', outputCol='s_gender', handleInvalid='keep'))\n",
    "\n",
    "# one hot encoding gender\n",
    "stages.append(OneHotEncoderEstimator(inputCols=['s_gender'], outputCols=['oh_s_gender']))\n",
    "\n",
    "\n",
    "\n",
    "# stage for feature/vector assembler\n",
    "stages.append(VectorAssembler(inputCols=['oh_s_gender','oh_s_geography','CreditScore',\n",
    " 'Age',\n",
    " 'Tenure',\n",
    " 'Balance',\n",
    " 'NumOfProducts',\n",
    " 'HasCrCard',\n",
    " 'IsActiveMember',\n",
    " 'EstimatedSalary'], outputCol='features'))\n",
    "\n",
    "# stage for scaling the features using MinMax scaler\n",
    "stages.append(MinMaxScaler(inputCol='features', outputCol='scaledfeatures'))"
   ]
  },
  {
   "cell_type": "markdown",
   "metadata": {},
   "source": [
    "#### Random Forest Classifier Stage"
   ]
  },
  {
   "cell_type": "code",
   "execution_count": 52,
   "metadata": {},
   "outputs": [],
   "source": [
    "# stage for random forest\n",
    "stages.append(RandomForestClassifier(labelCol='s_exited', featuresCol='features',\n",
    "                                     maxBins=100, numTrees=40, maxDepth=10))"
   ]
  },
  {
   "cell_type": "markdown",
   "metadata": {},
   "source": [
    "#### MultilayerPerceptronClassifier stage \n",
    "!!!!!!!!!!!!!! __REQUIRES SCALED FEATURE SET__ !!!!!!!!!!!!!!!!!!!!!!!!"
   ]
  },
  {
   "cell_type": "code",
   "execution_count": 116,
   "metadata": {},
   "outputs": [],
   "source": [
    "# stage for classifier\n",
    "stages.append(MultilayerPerceptronClassifier(labelCol=\"s_exited\", featuresCol=\"scaledfeatures\",\n",
    "                                         maxIter=200, layers=[13,5,5,2]))"
   ]
  },
  {
   "cell_type": "code",
   "execution_count": 117,
   "metadata": {},
   "outputs": [],
   "source": [
    "#stage for reverse indexing the prediction label\n",
    "\n",
    "stages.append(IndexToString(inputCol='prediction', outputCol='lab_prediction', labels=stages[0].labels))"
   ]
  },
  {
   "cell_type": "code",
   "execution_count": 60,
   "metadata": {},
   "outputs": [],
   "source": []
  },
  {
   "cell_type": "markdown",
   "metadata": {},
   "source": [
    "### Making the Pipeline Model"
   ]
  },
  {
   "cell_type": "code",
   "execution_count": 118,
   "metadata": {},
   "outputs": [],
   "source": [
    "from pyspark.ml import Pipeline\n",
    "\n",
    "pipeline = Pipeline(stages=stages) # Making Pipeline\n",
    "\n",
    "model = pipeline.fit(trainingData)# Making the model"
   ]
  },
  {
   "cell_type": "markdown",
   "metadata": {},
   "source": [
    "### Making the predictions"
   ]
  },
  {
   "cell_type": "code",
   "execution_count": 119,
   "metadata": {},
   "outputs": [],
   "source": [
    "predictions = model.transform(testData)"
   ]
  },
  {
   "cell_type": "markdown",
   "metadata": {},
   "source": [
    "### Evaluating the Model"
   ]
  },
  {
   "cell_type": "code",
   "execution_count": 120,
   "metadata": {},
   "outputs": [
    {
     "name": "stdout",
     "output_type": "stream",
     "text": [
      "Accuracy  = 0.854115 and Test Error = 0.145885\n"
     ]
    }
   ],
   "source": [
    "from pyspark.ml.evaluation import MulticlassClassificationEvaluator\n",
    "\n",
    "evaluator = MulticlassClassificationEvaluator(labelCol='s_exited', predictionCol='prediction', metricName='accuracy')\n",
    "accuracy = evaluator.evaluate(predictions)\n",
    "print(\"Accuracy  = %g and Test Error = %g\"%(accuracy, 1-accuracy))"
   ]
  },
  {
   "cell_type": "code",
   "execution_count": null,
   "metadata": {},
   "outputs": [],
   "source": []
  }
 ],
 "metadata": {
  "kernelspec": {
   "display_name": "Python 3",
   "language": "python",
   "name": "python3"
  },
  "language_info": {
   "codemirror_mode": {
    "name": "ipython",
    "version": 3
   },
   "file_extension": ".py",
   "mimetype": "text/x-python",
   "name": "python",
   "nbconvert_exporter": "python",
   "pygments_lexer": "ipython3",
   "version": "3.6.8"
  }
 },
 "nbformat": 4,
 "nbformat_minor": 2
}
